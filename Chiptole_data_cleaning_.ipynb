{
  "nbformat": 4,
  "nbformat_minor": 0,
  "metadata": {
    "colab": {
      "private_outputs": true,
      "provenance": []
    },
    "kernelspec": {
      "name": "python3",
      "display_name": "Python 3"
    },
    "language_info": {
      "name": "python"
    }
  },
  "cells": [
    {
      "cell_type": "code",
      "source": [
        "# Import necessary libraries\n",
        "import pandas as pd\n",
        "import numpy as np\n",
        "import matplotlib.pyplot as plt\n",
        "import seaborn as sns\n"
      ],
      "metadata": {
        "id": "WVmTViW7ITku"
      },
      "execution_count": null,
      "outputs": []
    },
    {
      "cell_type": "code",
      "source": [
        "# Load the Chipotle dataset\n",
        "url = 'https://raw.githubusercontent.com/justmarkham/DAT8/master/data/chipotle.tsv'\n",
        "chipotle_df = pd.read_csv(url, sep='\\t')\n",
        "\n",
        "# Dataset Exploration\n",
        "# Display basic information about the dataset\n",
        "print(chipotle_df.info())\n",
        "\n",
        "# Display the first few rows of the dataset\n",
        "print(chipotle_df.head())\n",
        "\n",
        "# Visualize the dataset\n",
        "plt.figure(figsize=(10, 6))\n",
        "sns.heatmap(chipotle_df.isnull(), cmap='viridis', cbar=False)\n",
        "plt.title('Missing Values in the Chipotle Dataset')\n",
        "plt.show()"
      ],
      "metadata": {
        "id": "Fdhkm3sAIWds"
      },
      "execution_count": null,
      "outputs": []
    },
    {
      "cell_type": "code",
      "source": [
        "\n",
        "\n",
        "# Identify missing values\n",
        "print(\"Missing Values:\")\n",
        "print(chipotle_df.isnull().sum())\n",
        "\n",
        "# Identify outliers (if applicable)\n",
        "# For simplicity, let's focus on numeric columns for outliers detection\n",
        "numeric_columns = chipotle_df.select_dtypes(include=[np.number]).columns\n",
        "for column in numeric_columns:\n",
        "    # Calculate Z-scores for each numeric column\n",
        "    z_scores = (chipotle_df[column] - chipotle_df[column].mean()) / chipotle_df[column].std()\n",
        "    # Identify and print rows with Z-scores beyond a certain threshold (e.g., 3)\n",
        "    outliers = chipotle_df[abs(z_scores) > 3]\n",
        "    if not outliers.empty:\n",
        "        print(f\"Outliers in {column}:\")\n",
        "        print(outliers)\n",
        "\n",
        "        # Visualize outliers\n",
        "        plt.figure(figsize=(10, 6))\n",
        "        sns.boxplot(x=chipotle_df[column])\n",
        "        plt.title(f'Outliers in {column}')\n",
        "        plt.show()"
      ],
      "metadata": {
        "id": "1caaxCRfIgME"
      },
      "execution_count": null,
      "outputs": []
    },
    {
      "cell_type": "code",
      "source": [
        "# Library Setup - Nothing to do here, assuming Pandas and Numpy are already installed\n",
        "\n",
        "# Data Cleaning\n",
        "# Handle missing values - In this case, there are no missing values, but if there were, you might choose to impute or remove them\n",
        "# Example: chipotle_df = chipotle_df.dropna()\n",
        "\n",
        "# Handle duplicate records\n",
        "chipotle_df.drop_duplicates(inplace=True)\n",
        "\n",
        "# Visualize duplicate records\n",
        "plt.figure(figsize=(10, 6))\n",
        "chipotle_df.duplicated().value_counts().plot(kind='bar', color=['skyblue', 'salmon'])\n",
        "plt.title('Distribution of Duplicate Records')\n",
        "plt.xticks([0, 1], ['No Duplicates', 'Duplicates'], rotation=0)\n",
        "plt.show()"
      ],
      "metadata": {
        "id": "NMcxd2T1Iq_z"
      },
      "execution_count": null,
      "outputs": []
    },
    {
      "cell_type": "code",
      "source": [
        "\n",
        "# Data Transformation\n",
        "# Example: Creating a new feature - Total price for each item\n",
        "chipotle_df['total_price'] = chipotle_df['quantity'] * chipotle_df['item_price']\n",
        "\n",
        "# Visualize the new feature\n",
        "plt.figure(figsize=(10, 6))\n",
        "sns.histplot(chipotle_df['total_price'], kde=True, color='skyblue')\n",
        "plt.title('Distribution of Total Price')\n",
        "plt.show()\n",
        "\n",
        "# Handling categorical variables (if any)\n",
        "# Example: Convert 'item_name' to a categorical variable\n",
        "chipotle_df['item_name'] = chipotle_df['item_name'].astype('category')\n",
        "\n",
        "# Visualize the distribution of 'item_name'\n",
        "plt.figure(figsize=(12, 8))\n",
        "sns.countplot(y=chipotle_df['item_name'], order=chipotle_df['item_name'].value_counts().index, palette='viridis')\n",
        "plt.title('Distribution of Items')\n",
        "plt.show()"
      ],
      "metadata": {
        "id": "G5PaOZ7MIt5y"
      },
      "execution_count": null,
      "outputs": []
    },
    {
      "cell_type": "code",
      "source": [
        "\n",
        "\n",
        "\n",
        "\n",
        "# Handling Outliers\n",
        "# Decide on an appropriate approach - You might choose to remove outliers or transform them\n",
        "# Example: Remove outliers for the 'quantity' column\n",
        "chipotle_df = chipotle_df[chipotle_df['quantity'] <= 10]\n",
        "\n",
        "# Visualize the cleaned dataset after handling outliers\n",
        "plt.figure(figsize=(10, 6))\n",
        "sns.boxplot(x=chipotle_df['quantity'], color='salmon')\n",
        "plt.title('Distribution of Quantity after Handling Outliers')\n",
        "plt.show()\n",
        "\n",
        "# Data Validation\n",
        "# Perform sanity checks on key variables and relationships\n",
        "# Example: Check if the total_price is calculated correctly\n",
        "print(\"Sanity Check - Total Price:\")\n",
        "print(chipotle_df[['quantity', 'item_price', 'total_price']].head())\n",
        "\n",
        "# Documentation\n",
        "# Document the steps and provide explanations for any transformations or imputations made during the process\n",
        "\n",
        "# Save the cleaned and transformed dataset if needed\n",
        "# Example: chipotle_df.to_csv('cleaned_chipotle_data.csv', index=False)\n"
      ],
      "metadata": {
        "id": "qAR6_DN0H6y9"
      },
      "execution_count": null,
      "outputs": []
    }
  ]
}